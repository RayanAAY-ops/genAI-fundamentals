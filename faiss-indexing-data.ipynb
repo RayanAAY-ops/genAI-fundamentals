{
 "cells": [
  {
   "cell_type": "code",
   "execution_count": null,
   "id": "6efc0ed6-7854-4346-8e38-823c3c0d9498",
   "metadata": {},
   "outputs": [],
   "source": [
    "!pip3 install  -r requirements.txt"
   ]
  },
  {
   "cell_type": "code",
   "execution_count": null,
   "id": "8f8e0799",
   "metadata": {},
   "outputs": [],
   "source": [
    "from dotenv import dotenv_values\n",
    "import openai, os\n",
    "import numpy as np\n",
    "from numpy.linalg import norm\n",
    "\n",
    "secrets= dotenv_values(\".env\")"
   ]
  },
  {
   "cell_type": "code",
   "execution_count": null,
   "id": "9e49b295-20b1-40a3-aa92-0a224b389676",
   "metadata": {},
   "outputs": [],
   "source": [
    "os.environ['OPENAI_API_KEY'] = secrets['OPENAI_API_KEY']"
   ]
  },
  {
   "cell_type": "markdown",
   "id": "a08e02d7-ee38-4948-b48f-0a7dc826126c",
   "metadata": {},
   "source": [
    "# Indexing Data"
   ]
  },
  {
   "cell_type": "code",
   "execution_count": null,
   "id": "a398e504-f95f-416e-9a87-883f7a2f253d",
   "metadata": {},
   "outputs": [],
   "source": [
    "from langchain.document_loaders import PyPDFLoader\n",
    "from langchain.text_splitter import RecursiveCharacterTextSplitter\n",
    "\n",
    "file_path = '/Users/rayanaay/Desktop/projects/langchain/summarizing_project/mix_data/rust_essentials.pdf'\n",
    "\n",
    "loader = PyPDFLoader(file_path=file_path)\n",
    "\n",
    "text_splitter = RecursiveCharacterTextSplitter(\n",
    "    chunk_size=500,\n",
    "    chunk_overlap=0\n",
    ")\n",
    "\n",
    "data = loader.load_and_split(text_splitter=text_splitter)\n",
    "data"
   ]
  },
  {
   "cell_type": "code",
   "execution_count": null,
   "id": "dfebddff-74de-4561-94ee-c66c7e9d53a8",
   "metadata": {},
   "outputs": [],
   "source": [
    "from langchain.embeddings.openai import OpenAIEmbeddings\n",
    "\n",
    "embeddings = OpenAIEmbeddings(show_progress_bar=True)\n",
    "\n",
    "vector1 = embeddings.embed_query('what do you think about yourself?')\n",
    "\n",
    "len(vector1)"
   ]
  },
  {
   "cell_type": "markdown",
   "id": "56fdc6a6-d67a-47ca-8bc1-9c0360f61962",
   "metadata": {},
   "source": [
    "length of the embedded vector is 1536"
   ]
  },
  {
   "cell_type": "code",
   "execution_count": null,
   "id": "793705da-38e0-4144-b988-e6f252c242e7",
   "metadata": {},
   "outputs": [],
   "source": [
    "def get_cosine(vec1, vec2):\n",
    "    return np.dot(vec1,vec2)/(norm(vec1)*norm(vec2))\n",
    "    \n",
    "vector1 = embeddings.embed_query('Rustlang')\n",
    "vector2 = embeddings.embed_query('C++')\n",
    "cosine = get_cosine(vector1, vector2)\n",
    "cosine"
   ]
  },
  {
   "cell_type": "code",
   "execution_count": null,
   "id": "2d055907-9a04-41d4-934f-24d1af52f275",
   "metadata": {},
   "outputs": [],
   "source": [
    "vector3 = embeddings.embed_query('kimora')\n",
    "cosine = get_cosine(vector1, vector3)\n",
    "cosine"
   ]
  },
  {
   "cell_type": "markdown",
   "id": "562166ac",
   "metadata": {},
   "source": [
    "Interesting, even if the word 3 is decorrelated from programming langage, the cosine similarity is still high, but relatively small compared to the word 2."
   ]
  },
  {
   "cell_type": "markdown",
   "id": "6a86c94e-75cd-477a-9e3f-0718f3f6c947",
   "metadata": {},
   "source": [
    "# FAISS (Vector Database)"
   ]
  },
  {
   "cell_type": "markdown",
   "id": "2fd76a05-4762-4153-ae7d-f50bb2083328",
   "metadata": {},
   "source": [
    "FAISS is a library for efficient similarity search and clustering of dense vectors."
   ]
  },
  {
   "cell_type": "code",
   "execution_count": null,
   "id": "d3363ab0-6111-413f-ab94-4aeb7fd8f925",
   "metadata": {},
   "outputs": [],
   "source": [
    "from langchain.vectorstores import FAISS\n",
    "\n",
    "index = FAISS.from_documents(data, embeddings)"
   ]
  },
  {
   "cell_type": "code",
   "execution_count": null,
   "id": "8c274891-b9d6-497d-8dff-b2ded039edcd",
   "metadata": {},
   "outputs": [],
   "source": [
    "index.similarity_search_with_relevance_scores(\n",
    "    \"Concurrency\"\n",
    ")"
   ]
  },
  {
   "cell_type": "code",
   "execution_count": null,
   "id": "d056f63b-b0aa-4e01-ace1-b6daa16b55a4",
   "metadata": {},
   "outputs": [],
   "source": [
    "from langchain.chains import RetrievalQA\n",
    "from langchain.chat_models import ChatOpenAI\n",
    "from langchain.callbacks import StdOutCallbackHandler\n",
    "\n",
    "retriever = index.as_retriever()\n",
    "retriever.search_kwargs['fetch_k'] = 20\n",
    "retriever.search_kwargs['maximal_marginal_relevance'] = True\n",
    "retriever.search_kwargs['k'] = 10\n",
    "\n",
    "llm = ChatOpenAI()\n",
    "\n",
    "chain = RetrievalQA.from_chain_type(\n",
    "    llm=llm, \n",
    "    retriever=retriever,\n",
    "    verbose=True\n",
    ")\n",
    "\n",
    "handler = StdOutCallbackHandler()\n",
    "\n",
    "chain.run(\n",
    "    'What is concurrency in Rust ?',\n",
    "    callbacks=[handler]\n",
    ")"
   ]
  }
 ],
 "metadata": {
  "kernelspec": {
   "display_name": "langchain_pratice",
   "language": "python",
   "name": "python3"
  },
  "language_info": {
   "codemirror_mode": {
    "name": "ipython",
    "version": 3
   },
   "file_extension": ".py",
   "mimetype": "text/x-python",
   "name": "python",
   "nbconvert_exporter": "python",
   "pygments_lexer": "ipython3",
   "version": "3.12.2"
  }
 },
 "nbformat": 4,
 "nbformat_minor": 5
}
