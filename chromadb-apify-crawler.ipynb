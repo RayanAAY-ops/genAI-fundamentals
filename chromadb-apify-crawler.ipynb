{
 "cells": [
  {
   "cell_type": "code",
   "execution_count": 11,
   "metadata": {},
   "outputs": [
    {
     "name": "stdout",
     "output_type": "stream",
     "text": [
      "Requirement already satisfied: langchain-core==0.2.3 in /Users/rayanaay/anaconda3/envs/langchain/lib/python3.12/site-packages (from -r requirements.txt (line 1)) (0.2.3)\n",
      "Requirement already satisfied: langchain==0.2 in /Users/rayanaay/anaconda3/envs/langchain/lib/python3.12/site-packages (from -r requirements.txt (line 2)) (0.2.0)\n",
      "Requirement already satisfied: faiss-cpu in /Users/rayanaay/anaconda3/envs/langchain/lib/python3.12/site-packages (from -r requirements.txt (line 3)) (1.8.0)\n",
      "Requirement already satisfied: python-dotenv in /Users/rayanaay/anaconda3/envs/langchain/lib/python3.12/site-packages (from -r requirements.txt (line 4)) (1.0.1)\n",
      "Requirement already satisfied: pypdf in /Users/rayanaay/anaconda3/envs/langchain/lib/python3.12/site-packages (from -r requirements.txt (line 5)) (4.2.0)\n",
      "Requirement already satisfied: langchain-openai in /Users/rayanaay/anaconda3/envs/langchain/lib/python3.12/site-packages (from -r requirements.txt (line 6)) (0.1.8)\n",
      "Requirement already satisfied: langchain_pinecone in /Users/rayanaay/anaconda3/envs/langchain/lib/python3.12/site-packages (from -r requirements.txt (line 7)) (0.1.1)\n",
      "Requirement already satisfied: pinecone-client in /Users/rayanaay/anaconda3/envs/langchain/lib/python3.12/site-packages (from -r requirements.txt (line 8)) (3.2.2)\n",
      "Requirement already satisfied: newsapi-python in /Users/rayanaay/anaconda3/envs/langchain/lib/python3.12/site-packages (from -r requirements.txt (line 9)) (0.2.7)\n",
      "Requirement already satisfied: apify-client in /Users/rayanaay/anaconda3/envs/langchain/lib/python3.12/site-packages (from -r requirements.txt (line 10)) (1.7.0)\n",
      "Requirement already satisfied: chromadb in /Users/rayanaay/anaconda3/envs/langchain/lib/python3.12/site-packages (from -r requirements.txt (line 11)) (0.5.0)\n",
      "Requirement already satisfied: langchain-community in /Users/rayanaay/anaconda3/envs/langchain/lib/python3.12/site-packages (from -r requirements.txt (line 12)) (0.0.18)\n",
      "Requirement already satisfied: PyYAML>=5.3 in /Users/rayanaay/anaconda3/envs/langchain/lib/python3.12/site-packages (from langchain-core==0.2.3->-r requirements.txt (line 1)) (6.0.1)\n",
      "Requirement already satisfied: jsonpatch<2.0,>=1.33 in /Users/rayanaay/anaconda3/envs/langchain/lib/python3.12/site-packages (from langchain-core==0.2.3->-r requirements.txt (line 1)) (1.33)\n",
      "Requirement already satisfied: langsmith<0.2.0,>=0.1.65 in /Users/rayanaay/anaconda3/envs/langchain/lib/python3.12/site-packages (from langchain-core==0.2.3->-r requirements.txt (line 1)) (0.1.73)\n",
      "Requirement already satisfied: packaging<24.0,>=23.2 in /Users/rayanaay/anaconda3/envs/langchain/lib/python3.12/site-packages (from langchain-core==0.2.3->-r requirements.txt (line 1)) (23.2)\n",
      "Requirement already satisfied: pydantic<3,>=1 in /Users/rayanaay/anaconda3/envs/langchain/lib/python3.12/site-packages (from langchain-core==0.2.3->-r requirements.txt (line 1)) (2.7.3)\n",
      "Requirement already satisfied: tenacity<9.0.0,>=8.1.0 in /Users/rayanaay/anaconda3/envs/langchain/lib/python3.12/site-packages (from langchain-core==0.2.3->-r requirements.txt (line 1)) (8.3.0)\n",
      "Requirement already satisfied: SQLAlchemy<3,>=1.4 in /Users/rayanaay/anaconda3/envs/langchain/lib/python3.12/site-packages (from langchain==0.2->-r requirements.txt (line 2)) (2.0.30)\n",
      "Requirement already satisfied: aiohttp<4.0.0,>=3.8.3 in /Users/rayanaay/anaconda3/envs/langchain/lib/python3.12/site-packages (from langchain==0.2->-r requirements.txt (line 2)) (3.9.5)\n",
      "Requirement already satisfied: dataclasses-json<0.7,>=0.5.7 in /Users/rayanaay/anaconda3/envs/langchain/lib/python3.12/site-packages (from langchain==0.2->-r requirements.txt (line 2)) (0.6.6)\n",
      "Requirement already satisfied: langchain-text-splitters<0.3.0,>=0.2.0 in /Users/rayanaay/anaconda3/envs/langchain/lib/python3.12/site-packages (from langchain==0.2->-r requirements.txt (line 2)) (0.2.1)\n",
      "Requirement already satisfied: numpy<2,>=1 in /Users/rayanaay/anaconda3/envs/langchain/lib/python3.12/site-packages (from langchain==0.2->-r requirements.txt (line 2)) (1.26.4)\n",
      "Requirement already satisfied: requests<3,>=2 in /Users/rayanaay/anaconda3/envs/langchain/lib/python3.12/site-packages (from langchain==0.2->-r requirements.txt (line 2)) (2.32.3)\n",
      "Requirement already satisfied: openai<2.0.0,>=1.26.0 in /Users/rayanaay/anaconda3/envs/langchain/lib/python3.12/site-packages (from langchain-openai->-r requirements.txt (line 6)) (1.31.1)\n",
      "Requirement already satisfied: tiktoken<1,>=0.7 in /Users/rayanaay/anaconda3/envs/langchain/lib/python3.12/site-packages (from langchain-openai->-r requirements.txt (line 6)) (0.7.0)\n",
      "Requirement already satisfied: certifi>=2019.11.17 in /Users/rayanaay/anaconda3/envs/langchain/lib/python3.12/site-packages (from pinecone-client->-r requirements.txt (line 8)) (2024.6.2)\n",
      "Requirement already satisfied: tqdm>=4.64.1 in /Users/rayanaay/anaconda3/envs/langchain/lib/python3.12/site-packages (from pinecone-client->-r requirements.txt (line 8)) (4.66.4)\n",
      "Requirement already satisfied: typing-extensions>=3.7.4 in /Users/rayanaay/anaconda3/envs/langchain/lib/python3.12/site-packages (from pinecone-client->-r requirements.txt (line 8)) (4.12.1)\n",
      "Requirement already satisfied: urllib3>=1.26.5 in /Users/rayanaay/anaconda3/envs/langchain/lib/python3.12/site-packages (from pinecone-client->-r requirements.txt (line 8)) (2.2.1)\n",
      "Requirement already satisfied: apify-shared~=1.1.1 in /Users/rayanaay/anaconda3/envs/langchain/lib/python3.12/site-packages (from apify-client->-r requirements.txt (line 10)) (1.1.1)\n",
      "Requirement already satisfied: httpx>=0.25.1 in /Users/rayanaay/anaconda3/envs/langchain/lib/python3.12/site-packages (from apify-client->-r requirements.txt (line 10)) (0.27.0)\n",
      "Requirement already satisfied: build>=1.0.3 in /Users/rayanaay/anaconda3/envs/langchain/lib/python3.12/site-packages (from chromadb->-r requirements.txt (line 11)) (1.2.1)\n",
      "Requirement already satisfied: chroma-hnswlib==0.7.3 in /Users/rayanaay/anaconda3/envs/langchain/lib/python3.12/site-packages (from chromadb->-r requirements.txt (line 11)) (0.7.3)\n",
      "Requirement already satisfied: fastapi>=0.95.2 in /Users/rayanaay/anaconda3/envs/langchain/lib/python3.12/site-packages (from chromadb->-r requirements.txt (line 11)) (0.111.0)\n",
      "Requirement already satisfied: uvicorn>=0.18.3 in /Users/rayanaay/anaconda3/envs/langchain/lib/python3.12/site-packages (from uvicorn[standard]>=0.18.3->chromadb->-r requirements.txt (line 11)) (0.30.1)\n",
      "Requirement already satisfied: posthog>=2.4.0 in /Users/rayanaay/anaconda3/envs/langchain/lib/python3.12/site-packages (from chromadb->-r requirements.txt (line 11)) (3.5.0)\n",
      "Requirement already satisfied: onnxruntime>=1.14.1 in /Users/rayanaay/anaconda3/envs/langchain/lib/python3.12/site-packages (from chromadb->-r requirements.txt (line 11)) (1.18.0)\n",
      "Requirement already satisfied: opentelemetry-api>=1.2.0 in /Users/rayanaay/anaconda3/envs/langchain/lib/python3.12/site-packages (from chromadb->-r requirements.txt (line 11)) (1.25.0)\n",
      "Requirement already satisfied: opentelemetry-exporter-otlp-proto-grpc>=1.2.0 in /Users/rayanaay/anaconda3/envs/langchain/lib/python3.12/site-packages (from chromadb->-r requirements.txt (line 11)) (1.25.0)\n",
      "Requirement already satisfied: opentelemetry-instrumentation-fastapi>=0.41b0 in /Users/rayanaay/anaconda3/envs/langchain/lib/python3.12/site-packages (from chromadb->-r requirements.txt (line 11)) (0.46b0)\n",
      "Requirement already satisfied: opentelemetry-sdk>=1.2.0 in /Users/rayanaay/anaconda3/envs/langchain/lib/python3.12/site-packages (from chromadb->-r requirements.txt (line 11)) (1.25.0)\n",
      "Requirement already satisfied: tokenizers>=0.13.2 in /Users/rayanaay/anaconda3/envs/langchain/lib/python3.12/site-packages (from chromadb->-r requirements.txt (line 11)) (0.19.1)\n",
      "Requirement already satisfied: pypika>=0.48.9 in /Users/rayanaay/anaconda3/envs/langchain/lib/python3.12/site-packages (from chromadb->-r requirements.txt (line 11)) (0.48.9)\n",
      "Requirement already satisfied: overrides>=7.3.1 in /Users/rayanaay/anaconda3/envs/langchain/lib/python3.12/site-packages (from chromadb->-r requirements.txt (line 11)) (7.7.0)\n",
      "Requirement already satisfied: importlib-resources in /Users/rayanaay/anaconda3/envs/langchain/lib/python3.12/site-packages (from chromadb->-r requirements.txt (line 11)) (6.4.0)\n",
      "Requirement already satisfied: grpcio>=1.58.0 in /Users/rayanaay/anaconda3/envs/langchain/lib/python3.12/site-packages (from chromadb->-r requirements.txt (line 11)) (1.64.1)\n",
      "Requirement already satisfied: bcrypt>=4.0.1 in /Users/rayanaay/anaconda3/envs/langchain/lib/python3.12/site-packages (from chromadb->-r requirements.txt (line 11)) (4.1.3)\n",
      "Requirement already satisfied: typer>=0.9.0 in /Users/rayanaay/anaconda3/envs/langchain/lib/python3.12/site-packages (from chromadb->-r requirements.txt (line 11)) (0.12.3)\n",
      "Requirement already satisfied: kubernetes>=28.1.0 in /Users/rayanaay/anaconda3/envs/langchain/lib/python3.12/site-packages (from chromadb->-r requirements.txt (line 11)) (30.1.0)\n",
      "Requirement already satisfied: mmh3>=4.0.1 in /Users/rayanaay/anaconda3/envs/langchain/lib/python3.12/site-packages (from chromadb->-r requirements.txt (line 11)) (4.1.0)\n",
      "Requirement already satisfied: orjson>=3.9.12 in /Users/rayanaay/anaconda3/envs/langchain/lib/python3.12/site-packages (from chromadb->-r requirements.txt (line 11)) (3.10.3)\n",
      "INFO: pip is looking at multiple versions of langchain-community to determine which version is compatible with other requirements. This could take a while.\n",
      "Collecting langchain-community (from -r requirements.txt (line 12))\n",
      "  Downloading langchain_community-0.2.3-py3-none-any.whl.metadata (9.0 kB)\n",
      "Requirement already satisfied: aiosignal>=1.1.2 in /Users/rayanaay/anaconda3/envs/langchain/lib/python3.12/site-packages (from aiohttp<4.0.0,>=3.8.3->langchain==0.2->-r requirements.txt (line 2)) (1.3.1)\n",
      "Requirement already satisfied: attrs>=17.3.0 in /Users/rayanaay/anaconda3/envs/langchain/lib/python3.12/site-packages (from aiohttp<4.0.0,>=3.8.3->langchain==0.2->-r requirements.txt (line 2)) (23.2.0)\n",
      "Requirement already satisfied: frozenlist>=1.1.1 in /Users/rayanaay/anaconda3/envs/langchain/lib/python3.12/site-packages (from aiohttp<4.0.0,>=3.8.3->langchain==0.2->-r requirements.txt (line 2)) (1.4.1)\n",
      "Requirement already satisfied: multidict<7.0,>=4.5 in /Users/rayanaay/anaconda3/envs/langchain/lib/python3.12/site-packages (from aiohttp<4.0.0,>=3.8.3->langchain==0.2->-r requirements.txt (line 2)) (6.0.5)\n",
      "Requirement already satisfied: yarl<2.0,>=1.0 in /Users/rayanaay/anaconda3/envs/langchain/lib/python3.12/site-packages (from aiohttp<4.0.0,>=3.8.3->langchain==0.2->-r requirements.txt (line 2)) (1.9.4)\n",
      "Requirement already satisfied: pyproject_hooks in /Users/rayanaay/anaconda3/envs/langchain/lib/python3.12/site-packages (from build>=1.0.3->chromadb->-r requirements.txt (line 11)) (1.1.0)\n",
      "Requirement already satisfied: marshmallow<4.0.0,>=3.18.0 in /Users/rayanaay/anaconda3/envs/langchain/lib/python3.12/site-packages (from dataclasses-json<0.7,>=0.5.7->langchain==0.2->-r requirements.txt (line 2)) (3.21.2)\n",
      "Requirement already satisfied: typing-inspect<1,>=0.4.0 in /Users/rayanaay/anaconda3/envs/langchain/lib/python3.12/site-packages (from dataclasses-json<0.7,>=0.5.7->langchain==0.2->-r requirements.txt (line 2)) (0.9.0)\n",
      "Requirement already satisfied: starlette<0.38.0,>=0.37.2 in /Users/rayanaay/anaconda3/envs/langchain/lib/python3.12/site-packages (from fastapi>=0.95.2->chromadb->-r requirements.txt (line 11)) (0.37.2)\n",
      "Requirement already satisfied: fastapi-cli>=0.0.2 in /Users/rayanaay/anaconda3/envs/langchain/lib/python3.12/site-packages (from fastapi>=0.95.2->chromadb->-r requirements.txt (line 11)) (0.0.4)\n",
      "Requirement already satisfied: jinja2>=2.11.2 in /Users/rayanaay/anaconda3/envs/langchain/lib/python3.12/site-packages (from fastapi>=0.95.2->chromadb->-r requirements.txt (line 11)) (3.1.4)\n",
      "Requirement already satisfied: python-multipart>=0.0.7 in /Users/rayanaay/anaconda3/envs/langchain/lib/python3.12/site-packages (from fastapi>=0.95.2->chromadb->-r requirements.txt (line 11)) (0.0.9)\n",
      "Requirement already satisfied: ujson!=4.0.2,!=4.1.0,!=4.2.0,!=4.3.0,!=5.0.0,!=5.1.0,>=4.0.1 in /Users/rayanaay/anaconda3/envs/langchain/lib/python3.12/site-packages (from fastapi>=0.95.2->chromadb->-r requirements.txt (line 11)) (5.10.0)\n",
      "Requirement already satisfied: email_validator>=2.0.0 in /Users/rayanaay/anaconda3/envs/langchain/lib/python3.12/site-packages (from fastapi>=0.95.2->chromadb->-r requirements.txt (line 11)) (2.1.1)\n",
      "Requirement already satisfied: anyio in /Users/rayanaay/anaconda3/envs/langchain/lib/python3.12/site-packages (from httpx>=0.25.1->apify-client->-r requirements.txt (line 10)) (4.4.0)\n",
      "Requirement already satisfied: httpcore==1.* in /Users/rayanaay/anaconda3/envs/langchain/lib/python3.12/site-packages (from httpx>=0.25.1->apify-client->-r requirements.txt (line 10)) (1.0.5)\n",
      "Requirement already satisfied: idna in /Users/rayanaay/anaconda3/envs/langchain/lib/python3.12/site-packages (from httpx>=0.25.1->apify-client->-r requirements.txt (line 10)) (3.7)\n",
      "Requirement already satisfied: sniffio in /Users/rayanaay/anaconda3/envs/langchain/lib/python3.12/site-packages (from httpx>=0.25.1->apify-client->-r requirements.txt (line 10)) (1.3.1)\n",
      "Requirement already satisfied: h11<0.15,>=0.13 in /Users/rayanaay/anaconda3/envs/langchain/lib/python3.12/site-packages (from httpcore==1.*->httpx>=0.25.1->apify-client->-r requirements.txt (line 10)) (0.14.0)\n",
      "Requirement already satisfied: jsonpointer>=1.9 in /Users/rayanaay/anaconda3/envs/langchain/lib/python3.12/site-packages (from jsonpatch<2.0,>=1.33->langchain-core==0.2.3->-r requirements.txt (line 1)) (2.4)\n",
      "Requirement already satisfied: six>=1.9.0 in /Users/rayanaay/anaconda3/envs/langchain/lib/python3.12/site-packages (from kubernetes>=28.1.0->chromadb->-r requirements.txt (line 11)) (1.16.0)\n",
      "Requirement already satisfied: python-dateutil>=2.5.3 in /Users/rayanaay/anaconda3/envs/langchain/lib/python3.12/site-packages (from kubernetes>=28.1.0->chromadb->-r requirements.txt (line 11)) (2.9.0.post0)\n",
      "Requirement already satisfied: google-auth>=1.0.1 in /Users/rayanaay/anaconda3/envs/langchain/lib/python3.12/site-packages (from kubernetes>=28.1.0->chromadb->-r requirements.txt (line 11)) (2.29.0)\n",
      "Requirement already satisfied: websocket-client!=0.40.0,!=0.41.*,!=0.42.*,>=0.32.0 in /Users/rayanaay/anaconda3/envs/langchain/lib/python3.12/site-packages (from kubernetes>=28.1.0->chromadb->-r requirements.txt (line 11)) (1.8.0)\n",
      "Requirement already satisfied: requests-oauthlib in /Users/rayanaay/anaconda3/envs/langchain/lib/python3.12/site-packages (from kubernetes>=28.1.0->chromadb->-r requirements.txt (line 11)) (2.0.0)\n",
      "Requirement already satisfied: oauthlib>=3.2.2 in /Users/rayanaay/anaconda3/envs/langchain/lib/python3.12/site-packages (from kubernetes>=28.1.0->chromadb->-r requirements.txt (line 11)) (3.2.2)\n",
      "Requirement already satisfied: coloredlogs in /Users/rayanaay/anaconda3/envs/langchain/lib/python3.12/site-packages (from onnxruntime>=1.14.1->chromadb->-r requirements.txt (line 11)) (15.0.1)\n",
      "Requirement already satisfied: flatbuffers in /Users/rayanaay/anaconda3/envs/langchain/lib/python3.12/site-packages (from onnxruntime>=1.14.1->chromadb->-r requirements.txt (line 11)) (24.3.25)\n",
      "Requirement already satisfied: protobuf in /Users/rayanaay/anaconda3/envs/langchain/lib/python3.12/site-packages (from onnxruntime>=1.14.1->chromadb->-r requirements.txt (line 11)) (4.25.3)\n",
      "Requirement already satisfied: sympy in /Users/rayanaay/anaconda3/envs/langchain/lib/python3.12/site-packages (from onnxruntime>=1.14.1->chromadb->-r requirements.txt (line 11)) (1.12.1)\n",
      "Requirement already satisfied: distro<2,>=1.7.0 in /Users/rayanaay/anaconda3/envs/langchain/lib/python3.12/site-packages (from openai<2.0.0,>=1.26.0->langchain-openai->-r requirements.txt (line 6)) (1.9.0)\n",
      "Requirement already satisfied: deprecated>=1.2.6 in /Users/rayanaay/anaconda3/envs/langchain/lib/python3.12/site-packages (from opentelemetry-api>=1.2.0->chromadb->-r requirements.txt (line 11)) (1.2.14)\n",
      "Requirement already satisfied: importlib-metadata<=7.1,>=6.0 in /Users/rayanaay/anaconda3/envs/langchain/lib/python3.12/site-packages (from opentelemetry-api>=1.2.0->chromadb->-r requirements.txt (line 11)) (7.1.0)\n",
      "Requirement already satisfied: googleapis-common-protos~=1.52 in /Users/rayanaay/anaconda3/envs/langchain/lib/python3.12/site-packages (from opentelemetry-exporter-otlp-proto-grpc>=1.2.0->chromadb->-r requirements.txt (line 11)) (1.63.1)\n",
      "Requirement already satisfied: opentelemetry-exporter-otlp-proto-common==1.25.0 in /Users/rayanaay/anaconda3/envs/langchain/lib/python3.12/site-packages (from opentelemetry-exporter-otlp-proto-grpc>=1.2.0->chromadb->-r requirements.txt (line 11)) (1.25.0)\n",
      "Requirement already satisfied: opentelemetry-proto==1.25.0 in /Users/rayanaay/anaconda3/envs/langchain/lib/python3.12/site-packages (from opentelemetry-exporter-otlp-proto-grpc>=1.2.0->chromadb->-r requirements.txt (line 11)) (1.25.0)\n",
      "Requirement already satisfied: opentelemetry-instrumentation-asgi==0.46b0 in /Users/rayanaay/anaconda3/envs/langchain/lib/python3.12/site-packages (from opentelemetry-instrumentation-fastapi>=0.41b0->chromadb->-r requirements.txt (line 11)) (0.46b0)\n",
      "Requirement already satisfied: opentelemetry-instrumentation==0.46b0 in /Users/rayanaay/anaconda3/envs/langchain/lib/python3.12/site-packages (from opentelemetry-instrumentation-fastapi>=0.41b0->chromadb->-r requirements.txt (line 11)) (0.46b0)\n",
      "Requirement already satisfied: opentelemetry-semantic-conventions==0.46b0 in /Users/rayanaay/anaconda3/envs/langchain/lib/python3.12/site-packages (from opentelemetry-instrumentation-fastapi>=0.41b0->chromadb->-r requirements.txt (line 11)) (0.46b0)\n",
      "Requirement already satisfied: opentelemetry-util-http==0.46b0 in /Users/rayanaay/anaconda3/envs/langchain/lib/python3.12/site-packages (from opentelemetry-instrumentation-fastapi>=0.41b0->chromadb->-r requirements.txt (line 11)) (0.46b0)\n",
      "Requirement already satisfied: setuptools>=16.0 in /Users/rayanaay/anaconda3/envs/langchain/lib/python3.12/site-packages (from opentelemetry-instrumentation==0.46b0->opentelemetry-instrumentation-fastapi>=0.41b0->chromadb->-r requirements.txt (line 11)) (69.5.1)\n",
      "Requirement already satisfied: wrapt<2.0.0,>=1.0.0 in /Users/rayanaay/anaconda3/envs/langchain/lib/python3.12/site-packages (from opentelemetry-instrumentation==0.46b0->opentelemetry-instrumentation-fastapi>=0.41b0->chromadb->-r requirements.txt (line 11)) (1.16.0)\n",
      "Requirement already satisfied: asgiref~=3.0 in /Users/rayanaay/anaconda3/envs/langchain/lib/python3.12/site-packages (from opentelemetry-instrumentation-asgi==0.46b0->opentelemetry-instrumentation-fastapi>=0.41b0->chromadb->-r requirements.txt (line 11)) (3.8.1)\n",
      "Requirement already satisfied: monotonic>=1.5 in /Users/rayanaay/anaconda3/envs/langchain/lib/python3.12/site-packages (from posthog>=2.4.0->chromadb->-r requirements.txt (line 11)) (1.6)\n",
      "Requirement already satisfied: backoff>=1.10.0 in /Users/rayanaay/anaconda3/envs/langchain/lib/python3.12/site-packages (from posthog>=2.4.0->chromadb->-r requirements.txt (line 11)) (2.2.1)\n",
      "Requirement already satisfied: annotated-types>=0.4.0 in /Users/rayanaay/anaconda3/envs/langchain/lib/python3.12/site-packages (from pydantic<3,>=1->langchain-core==0.2.3->-r requirements.txt (line 1)) (0.7.0)\n",
      "Requirement already satisfied: pydantic-core==2.18.4 in /Users/rayanaay/anaconda3/envs/langchain/lib/python3.12/site-packages (from pydantic<3,>=1->langchain-core==0.2.3->-r requirements.txt (line 1)) (2.18.4)\n",
      "Requirement already satisfied: charset-normalizer<4,>=2 in /Users/rayanaay/anaconda3/envs/langchain/lib/python3.12/site-packages (from requests<3,>=2->langchain==0.2->-r requirements.txt (line 2)) (3.3.2)\n",
      "Requirement already satisfied: regex>=2022.1.18 in /Users/rayanaay/anaconda3/envs/langchain/lib/python3.12/site-packages (from tiktoken<1,>=0.7->langchain-openai->-r requirements.txt (line 6)) (2024.5.15)\n",
      "Requirement already satisfied: huggingface-hub<1.0,>=0.16.4 in /Users/rayanaay/anaconda3/envs/langchain/lib/python3.12/site-packages (from tokenizers>=0.13.2->chromadb->-r requirements.txt (line 11)) (0.23.3)\n",
      "Requirement already satisfied: click>=8.0.0 in /Users/rayanaay/anaconda3/envs/langchain/lib/python3.12/site-packages (from typer>=0.9.0->chromadb->-r requirements.txt (line 11)) (8.1.7)\n",
      "Requirement already satisfied: shellingham>=1.3.0 in /Users/rayanaay/anaconda3/envs/langchain/lib/python3.12/site-packages (from typer>=0.9.0->chromadb->-r requirements.txt (line 11)) (1.5.4)\n",
      "Requirement already satisfied: rich>=10.11.0 in /Users/rayanaay/anaconda3/envs/langchain/lib/python3.12/site-packages (from typer>=0.9.0->chromadb->-r requirements.txt (line 11)) (13.7.1)\n",
      "Requirement already satisfied: httptools>=0.5.0 in /Users/rayanaay/anaconda3/envs/langchain/lib/python3.12/site-packages (from uvicorn[standard]>=0.18.3->chromadb->-r requirements.txt (line 11)) (0.6.1)\n",
      "Requirement already satisfied: uvloop!=0.15.0,!=0.15.1,>=0.14.0 in /Users/rayanaay/anaconda3/envs/langchain/lib/python3.12/site-packages (from uvicorn[standard]>=0.18.3->chromadb->-r requirements.txt (line 11)) (0.19.0)\n",
      "Requirement already satisfied: watchfiles>=0.13 in /Users/rayanaay/anaconda3/envs/langchain/lib/python3.12/site-packages (from uvicorn[standard]>=0.18.3->chromadb->-r requirements.txt (line 11)) (0.22.0)\n",
      "Requirement already satisfied: websockets>=10.4 in /Users/rayanaay/anaconda3/envs/langchain/lib/python3.12/site-packages (from uvicorn[standard]>=0.18.3->chromadb->-r requirements.txt (line 11)) (12.0)\n",
      "Requirement already satisfied: dnspython>=2.0.0 in /Users/rayanaay/anaconda3/envs/langchain/lib/python3.12/site-packages (from email_validator>=2.0.0->fastapi>=0.95.2->chromadb->-r requirements.txt (line 11)) (2.6.1)\n",
      "Requirement already satisfied: cachetools<6.0,>=2.0.0 in /Users/rayanaay/anaconda3/envs/langchain/lib/python3.12/site-packages (from google-auth>=1.0.1->kubernetes>=28.1.0->chromadb->-r requirements.txt (line 11)) (5.3.3)\n",
      "Requirement already satisfied: pyasn1-modules>=0.2.1 in /Users/rayanaay/anaconda3/envs/langchain/lib/python3.12/site-packages (from google-auth>=1.0.1->kubernetes>=28.1.0->chromadb->-r requirements.txt (line 11)) (0.4.0)\n",
      "Requirement already satisfied: rsa<5,>=3.1.4 in /Users/rayanaay/anaconda3/envs/langchain/lib/python3.12/site-packages (from google-auth>=1.0.1->kubernetes>=28.1.0->chromadb->-r requirements.txt (line 11)) (4.9)\n",
      "Requirement already satisfied: filelock in /Users/rayanaay/anaconda3/envs/langchain/lib/python3.12/site-packages (from huggingface-hub<1.0,>=0.16.4->tokenizers>=0.13.2->chromadb->-r requirements.txt (line 11)) (3.14.0)\n",
      "Requirement already satisfied: fsspec>=2023.5.0 in /Users/rayanaay/anaconda3/envs/langchain/lib/python3.12/site-packages (from huggingface-hub<1.0,>=0.16.4->tokenizers>=0.13.2->chromadb->-r requirements.txt (line 11)) (2024.6.0)\n",
      "Requirement already satisfied: zipp>=0.5 in /Users/rayanaay/anaconda3/envs/langchain/lib/python3.12/site-packages (from importlib-metadata<=7.1,>=6.0->opentelemetry-api>=1.2.0->chromadb->-r requirements.txt (line 11)) (3.19.2)\n",
      "Requirement already satisfied: MarkupSafe>=2.0 in /Users/rayanaay/anaconda3/envs/langchain/lib/python3.12/site-packages (from jinja2>=2.11.2->fastapi>=0.95.2->chromadb->-r requirements.txt (line 11)) (2.1.5)\n",
      "Requirement already satisfied: markdown-it-py>=2.2.0 in /Users/rayanaay/anaconda3/envs/langchain/lib/python3.12/site-packages (from rich>=10.11.0->typer>=0.9.0->chromadb->-r requirements.txt (line 11)) (3.0.0)\n",
      "Requirement already satisfied: pygments<3.0.0,>=2.13.0 in /Users/rayanaay/anaconda3/envs/langchain/lib/python3.12/site-packages (from rich>=10.11.0->typer>=0.9.0->chromadb->-r requirements.txt (line 11)) (2.18.0)\n",
      "Requirement already satisfied: mypy-extensions>=0.3.0 in /Users/rayanaay/anaconda3/envs/langchain/lib/python3.12/site-packages (from typing-inspect<1,>=0.4.0->dataclasses-json<0.7,>=0.5.7->langchain==0.2->-r requirements.txt (line 2)) (1.0.0)\n",
      "Requirement already satisfied: humanfriendly>=9.1 in /Users/rayanaay/anaconda3/envs/langchain/lib/python3.12/site-packages (from coloredlogs->onnxruntime>=1.14.1->chromadb->-r requirements.txt (line 11)) (10.0)\n",
      "Requirement already satisfied: mpmath<1.4.0,>=1.1.0 in /Users/rayanaay/anaconda3/envs/langchain/lib/python3.12/site-packages (from sympy->onnxruntime>=1.14.1->chromadb->-r requirements.txt (line 11)) (1.3.0)\n",
      "Requirement already satisfied: mdurl~=0.1 in /Users/rayanaay/anaconda3/envs/langchain/lib/python3.12/site-packages (from markdown-it-py>=2.2.0->rich>=10.11.0->typer>=0.9.0->chromadb->-r requirements.txt (line 11)) (0.1.2)\n",
      "Requirement already satisfied: pyasn1<0.7.0,>=0.4.6 in /Users/rayanaay/anaconda3/envs/langchain/lib/python3.12/site-packages (from pyasn1-modules>=0.2.1->google-auth>=1.0.1->kubernetes>=28.1.0->chromadb->-r requirements.txt (line 11)) (0.6.0)\n",
      "Downloading langchain_community-0.2.3-py3-none-any.whl (2.2 MB)\n",
      "\u001b[2K   \u001b[90m━━━━━━━━━━━━━━━━━━━━━━━━━━━━━━━━━━━━━━━━\u001b[0m \u001b[32m2.2/2.2 MB\u001b[0m \u001b[31m27.2 MB/s\u001b[0m eta \u001b[36m0:00:00\u001b[0ma \u001b[36m0:00:01\u001b[0m\n",
      "\u001b[?25hInstalling collected packages: langchain-community\n",
      "  Attempting uninstall: langchain-community\n",
      "    Found existing installation: langchain-community 0.0.18\n",
      "    Uninstalling langchain-community-0.0.18:\n",
      "      Successfully uninstalled langchain-community-0.0.18\n",
      "Successfully installed langchain-community-0.2.3\n"
     ]
    }
   ],
   "source": [
    "!pip3 install -r requirements.txt"
   ]
  },
  {
   "cell_type": "code",
   "execution_count": 7,
   "metadata": {},
   "outputs": [],
   "source": [
    "from dotenv import dotenv_values\n",
    "import os\n",
    "SECRETS=dotenv_values(\".env\")\n",
    "os.environ['OPENAI_API_KEY'] = SECRETS['OPENAI_API_KEY']\n",
    "os.environ['APIFY_API_TOKEN'] = SECRETS['APIFY_API_KEY']"
   ]
  },
  {
   "cell_type": "code",
   "execution_count": 25,
   "metadata": {},
   "outputs": [],
   "source": [
    "from langchain.embeddings.openai import OpenAIEmbeddings\n",
    "from langchain_openai import OpenAI\n",
    "\n",
    "embeddings = OpenAIEmbeddings(show_progress_bar=True)\n",
    "\n",
    "llm = OpenAI(temperature=0)"
   ]
  },
  {
   "cell_type": "markdown",
   "metadata": {},
   "source": [
    "# Initializing apify content crawler"
   ]
  },
  {
   "cell_type": "code",
   "execution_count": 18,
   "metadata": {},
   "outputs": [],
   "source": [
    "from langchain.utilities import ApifyWrapper\n",
    "from langchain.docstore.document import Document\n",
    "\n",
    "apify = ApifyWrapper()\n",
    "link  = \"https://medium.com/data-and-beyond/vector-databases-a-beginners-guide-b050cbbe9ca0\"\n",
    "loader = apify.call_actor(\n",
    "    actor_id=\"apify/website-content-crawler\",\n",
    "    run_input={\n",
    "        \"startUrls\": [{\"url\": link}],\n",
    "        \"aggressivePrune\": True, # aggressivePrune : to avoid duplicates documents \n",
    "\n",
    "    },\n",
    "    dataset_mapping_function=lambda item: Document(\n",
    "        page_content=item[\"text\"] or \"\", metadata={\"source\": item[\"url\"]}\n",
    "    ),\n",
    ")"
   ]
  },
  {
   "cell_type": "code",
   "execution_count": 17,
   "metadata": {},
   "outputs": [
    {
     "data": {
      "text/plain": [
       "ApifyDatasetLoader(apify_client=<apify_client.client.ApifyClient object at 0x10fcb58e0>, dataset_id='MqLDMo79Rhdcpgxgb', dataset_mapping_function=<function <lambda> at 0x10b979620>)"
      ]
     },
     "execution_count": 17,
     "metadata": {},
     "output_type": "execute_result"
    }
   ],
   "source": [
    "loader"
   ]
  },
  {
   "cell_type": "markdown",
   "metadata": {},
   "source": [
    "Why using `RecursiveCharacterTextSplitter` ?\n",
    "\n",
    "- This text splitter is the recommended one for generic text. It is parameterized by a list of characters. It tries to split on them in order until the chunks are small enough. The default list is \n",
    "`[\"\\n\\n\", \"\\n\", \" \", \"\"]`. This has the effect of trying to keep all paragraphs (and then sentences, and then words) together as long as possible, as those would generically seem to be the strongest semantically related pieces of text."
   ]
  },
  {
   "cell_type": "code",
   "execution_count": 23,
   "metadata": {},
   "outputs": [
    {
     "name": "stderr",
     "output_type": "stream",
     "text": [
      "/Users/rayanaay/anaconda3/envs/langchain/lib/python3.12/site-packages/langchain/indexes/vectorstore.py:129: UserWarning: Using InMemoryVectorStore as the default vectorstore.This memory store won't persist data. You should explicitlyspecify a vectorstore when using VectorstoreIndexCreator\n",
      "  warnings.warn(\n",
      "/Users/rayanaay/anaconda3/envs/langchain/lib/python3.12/site-packages/tqdm/auto.py:21: TqdmWarning: IProgress not found. Please update jupyter and ipywidgets. See https://ipywidgets.readthedocs.io/en/stable/user_install.html\n",
      "  from .autonotebook import tqdm as notebook_tqdm\n",
      "100%|██████████| 1/1 [00:00<00:00,  1.42it/s]\n"
     ]
    },
    {
     "data": {
      "text/plain": [
       "VectorStoreIndexWrapper(vectorstore=<langchain_community.vectorstores.inmemory.InMemoryVectorStore object at 0x1746c48c0>)"
      ]
     },
     "execution_count": 23,
     "metadata": {},
     "output_type": "execute_result"
    }
   ],
   "source": [
    "from langchain.indexes import VectorstoreIndexCreator\n",
    "from langchain.text_splitter import RecursiveCharacterTextSplitter\n",
    "\n",
    "text_splitter = RecursiveCharacterTextSplitter(\n",
    "    chunk_size=500,\n",
    "    chunk_overlap=0\n",
    ")\n",
    "\n",
    "index = VectorstoreIndexCreator(\n",
    "    text_splitter=text_splitter,\n",
    "    embedding=embeddings\n",
    ").from_loaders([loader])\n",
    "\n",
    "index"
   ]
  },
  {
   "cell_type": "code",
   "execution_count": 27,
   "metadata": {},
   "outputs": [
    {
     "name": "stderr",
     "output_type": "stream",
     "text": [
      "100%|██████████| 1/1 [00:00<00:00,  3.64it/s]\n"
     ]
    },
    {
     "data": {
      "text/plain": [
       "{'question': ' What is the main benefit of a vector database ?',\n",
       " 'answer': ' The main benefit of a vector database is its ability to handle complex, high-dimensional data while offering efficient querying and retrieval mechanisms. This makes it a critical tool for extracting meaningful insights and unlocking new opportunities in various industries. \\n',\n",
       " 'sources': 'https://medium.com/data-and-beyond/vector-databases-a-beginners-guide-b050cbbe9ca0'}"
      ]
     },
     "execution_count": 27,
     "metadata": {},
     "output_type": "execute_result"
    }
   ],
   "source": [
    "query = \" What is the main benefit of a vector database ?\"\n",
    "\n",
    "index.query_with_sources(query, llm=llm)"
   ]
  },
  {
   "cell_type": "code",
   "execution_count": 30,
   "metadata": {},
   "outputs": [
    {
     "name": "stderr",
     "output_type": "stream",
     "text": [
      "/Users/rayanaay/anaconda3/envs/langchain/lib/python3.12/site-packages/langchain_core/_api/deprecation.py:119: LangChainDeprecationWarning: The method `Chain.run` was deprecated in langchain 0.1.0 and will be removed in 0.3.0. Use invoke instead.\n",
      "  warn_deprecated(\n",
      "100%|██████████| 1/1 [00:00<00:00,  2.04it/s]\n"
     ]
    },
    {
     "data": {
      "text/plain": [
       "' The main benefit of a vector database is its ability to handle complex, high-dimensional data while offering efficient querying and retrieval mechanisms.'"
      ]
     },
     "execution_count": 30,
     "metadata": {},
     "output_type": "execute_result"
    }
   ],
   "source": [
    "from langchain.chains import RetrievalQA\n",
    "\n",
    "retriever = index.vectorstore.as_retriever()\n",
    "\n",
    "qa = RetrievalQA.from_chain_type(\n",
    "    llm=llm, \n",
    "    retriever=retriever,\n",
    ")\n",
    "\n",
    "qa.run(\n",
    "    query, \n",
    ")"
   ]
  },
  {
   "cell_type": "code",
   "execution_count": null,
   "metadata": {},
   "outputs": [],
   "source": []
  }
 ],
 "metadata": {
  "kernelspec": {
   "display_name": "langchain",
   "language": "python",
   "name": "python3"
  },
  "language_info": {
   "codemirror_mode": {
    "name": "ipython",
    "version": 3
   },
   "file_extension": ".py",
   "mimetype": "text/x-python",
   "name": "python",
   "nbconvert_exporter": "python",
   "pygments_lexer": "ipython3",
   "version": "3.12.0"
  },
  "orig_nbformat": 4
 },
 "nbformat": 4,
 "nbformat_minor": 2
}
